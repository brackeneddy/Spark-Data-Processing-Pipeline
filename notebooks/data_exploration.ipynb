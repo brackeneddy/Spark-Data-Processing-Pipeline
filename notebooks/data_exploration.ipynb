{
 "cells": [
  {
   "cell_type": "code",
   "id": "initial_id",
   "metadata": {
    "collapsed": true,
    "ExecuteTime": {
     "end_time": "2024-10-09T22:25:27.462434Z",
     "start_time": "2024-10-09T22:25:22.871512Z"
    }
   },
   "source": [
    "from pyspark.sql import SparkSession\n",
    "from pyspark.sql.functions import col, avg, min, max\n",
    "\n",
    "spark = SparkSession.builder.appName(\"Data Exploration\").getOrCreate()\n",
    "\n",
    "df = spark.read.csv(\"../data/output_books.csv\", header=True, inferSchema=True)\n",
    "\n",
    "df.describe().show()\n",
    "\n",
    "df.groupBy(\"price_category\").count().show()\n",
    "\n",
    "df.orderBy(\"price\").limit(5).show(truncate=False)\n",
    "\n",
    "df.orderBy(col(\"price\").desc()).limit(5).show(truncate=False)\n",
    "\n",
    "spark.stop()\n"
   ],
   "outputs": [
    {
     "name": "stderr",
     "output_type": "stream",
     "text": [
      "24/10/09 18:25:23 WARN Utils: Your hostname, Brackens-MacBook-Pro.local resolves to a loopback address: 127.0.0.1; using 10.0.0.168 instead (on interface en0)\n",
      "24/10/09 18:25:23 WARN Utils: Set SPARK_LOCAL_IP if you need to bind to another address\n",
      "WARNING: An illegal reflective access operation has occurred\n",
      "WARNING: Illegal reflective access by org.apache.spark.unsafe.Platform (file:/Users/brackeneddy23/.local/share/virtualenvs/Spark-Data-Processing-Pipeline-N7S3CPjk/lib/python3.10/site-packages/pyspark/jars/spark-unsafe_2.12-3.0.3.jar) to constructor java.nio.DirectByteBuffer(long,int)\n",
      "WARNING: Please consider reporting this to the maintainers of org.apache.spark.unsafe.Platform\n",
      "WARNING: Use --illegal-access=warn to enable warnings of further illegal reflective access operations\n",
      "WARNING: All illegal access operations will be denied in a future release\n",
      "24/10/09 18:25:23 WARN NativeCodeLoader: Unable to load native-hadoop library for your platform... using builtin-java classes where applicable\n",
      "Using Spark's default log4j profile: org/apache/spark/log4j-defaults.properties\n",
      "Setting default log level to \"WARN\".\n",
      "To adjust logging level use sc.setLogLevel(newLevel). For SparkR, use setLogLevel(newLevel).\n"
     ]
    },
    {
     "name": "stdout",
     "output_type": "stream",
     "text": [
      "+-------+--------------------+-----+------+--------------+\n",
      "|summary|               title|price|rating|price_category|\n",
      "+-------+--------------------+-----+------+--------------+\n",
      "|  count|                  20|    0|    20|            20|\n",
      "|   mean|                null| null|  null|          null|\n",
      "| stddev|                null| null|  null|          null|\n",
      "|    min|A Light in the Attic| null|  Five|     expensive|\n",
      "|    max|  Tipping the Velvet| null|   Two|     expensive|\n",
      "+-------+--------------------+-----+------+--------------+\n",
      "\n",
      "+--------------+-----+\n",
      "|price_category|count|\n",
      "+--------------+-----+\n",
      "|     expensive|   20|\n",
      "+--------------+-----+\n",
      "\n",
      "+-------------------------------------+-----+------+--------------+\n",
      "|title                                |price|rating|price_category|\n",
      "+-------------------------------------+-----+------+--------------+\n",
      "|A Light in the Attic                 |null |Three |expensive     |\n",
      "|Tipping the Velvet                   |null |One   |expensive     |\n",
      "|Soumission                           |null |One   |expensive     |\n",
      "|Sharp Objects                        |null |Four  |expensive     |\n",
      "|Sapiens: A Brief History of Humankind|null |Five  |expensive     |\n",
      "+-------------------------------------+-----+------+--------------+\n",
      "\n",
      "+-------------------------------------+-----+------+--------------+\n",
      "|title                                |price|rating|price_category|\n",
      "+-------------------------------------+-----+------+--------------+\n",
      "|A Light in the Attic                 |null |Three |expensive     |\n",
      "|Tipping the Velvet                   |null |One   |expensive     |\n",
      "|Soumission                           |null |One   |expensive     |\n",
      "|Sharp Objects                        |null |Four  |expensive     |\n",
      "|Sapiens: A Brief History of Humankind|null |Five  |expensive     |\n",
      "+-------------------------------------+-----+------+--------------+\n",
      "\n"
     ]
    }
   ],
   "execution_count": 1
  },
  {
   "metadata": {},
   "cell_type": "code",
   "outputs": [],
   "execution_count": null,
   "source": "",
   "id": "d37bf084f2006ed8"
  }
 ],
 "metadata": {
  "kernelspec": {
   "display_name": "Python 3",
   "language": "python",
   "name": "python3"
  },
  "language_info": {
   "codemirror_mode": {
    "name": "ipython",
    "version": 2
   },
   "file_extension": ".py",
   "mimetype": "text/x-python",
   "name": "python",
   "nbconvert_exporter": "python",
   "pygments_lexer": "ipython2",
   "version": "2.7.6"
  }
 },
 "nbformat": 4,
 "nbformat_minor": 5
}
