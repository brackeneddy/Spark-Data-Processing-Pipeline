{
 "cells": [
  {
   "cell_type": "code",
   "id": "initial_id",
   "metadata": {
    "collapsed": true,
    "ExecuteTime": {
     "end_time": "2024-10-09T22:20:53.187058Z",
     "start_time": "2024-10-09T22:20:47.550805Z"
    }
   },
   "source": [
    "import requests\n",
    "from bs4 import BeautifulSoup\n",
    "from pyspark.sql import SparkSession\n",
    "from pyspark.sql.functions import col, regexp_replace, when\n",
    "import time\n",
    "\n",
    "def scrape_data():\n",
    "    url = \"http://books.toscrape.com/catalogue/category/books_1/index.html\"\n",
    "    response = requests.get(url)\n",
    "    if response.status_code != 200:\n",
    "        raise Exception(f\"Failed to retrieve data from {url}\")\n",
    "    soup = BeautifulSoup(response.text, \"html.parser\")\n",
    "    data = []\n",
    "    books = soup.find_all(\"article\", class_=\"product_pod\")\n",
    "    for book in books:\n",
    "        title = book.h3.a[\"title\"]\n",
    "        price = book.find(\"p\", class_=\"price_color\").text.strip().replace(\"£\", \"\").strip()  # Cleaning price\n",
    "        rating = book.p[\"class\"][1]\n",
    "        data.append((title, price, rating))\n",
    "    return data\n",
    "\n",
    "def run_spark_job():\n",
    "    spark = SparkSession.builder \\\n",
    "        .appName(\"Spark Web Scraper - Books\") \\\n",
    "        .config(\"spark.driver.extraJavaOptions\", \"--add-opens java.base/java.nio=ALL-UNNAMED\") \\\n",
    "        .config(\"spark.driver.bindAddress\", \"127.0.0.1\") \\\n",
    "        .getOrCreate()\n",
    "\n",
    "    spark.sparkContext.setLogLevel(\"ERROR\")\n",
    "\n",
    "    scraped_data = scrape_data()\n",
    "    columns = [\"title\", \"price\", \"rating\"]\n",
    "    spark_df = spark.createDataFrame(scraped_data, schema=columns)\n",
    "    \n",
    "    spark_df = spark_df.withColumn(\"price\", regexp_replace(col(\"price\"), \"[^0-9.]\", \"\").cast(\"float\"))\n",
    "    \n",
    "    spark_df = spark_df.withColumn(\"price_category\",\n",
    "                                   when(col(\"price\") < 20, \"cheap\")\n",
    "                                   .when((col(\"price\") >= 20) & (col(\"price\") < 35), \"moderate\")\n",
    "                                   .otherwise(\"expensive\"))\n",
    "    \n",
    "    sorted_df = spark_df.orderBy(col(\"price\").asc())\n",
    "    sorted_df.show(truncate=False)\n",
    "\n",
    "    timestamp = time.strftime(\"%Y%m%d-%H%M%S\")\n",
    "    output_path = f\"../data/output_books_{timestamp}.csv\"\n",
    "    sorted_df.write.csv(output_path, header=True)\n",
    "\n",
    "    spark.stop()\n",
    "\n",
    "if __name__ == \"__main__\":\n",
    "    run_spark_job()\n"
   ],
   "outputs": [
    {
     "name": "stderr",
     "output_type": "stream",
     "text": [
      "24/10/09 18:20:48 WARN Utils: Your hostname, Brackens-MacBook-Pro.local resolves to a loopback address: 127.0.0.1; using 10.0.0.168 instead (on interface en0)\n",
      "24/10/09 18:20:48 WARN Utils: Set SPARK_LOCAL_IP if you need to bind to another address\n",
      "24/10/09 18:20:48 WARN NativeCodeLoader: Unable to load native-hadoop library for your platform... using builtin-java classes where applicable\n",
      "Using Spark's default log4j profile: org/apache/spark/log4j-defaults.properties\n",
      "Setting default log level to \"WARN\".\n",
      "To adjust logging level use sc.setLogLevel(newLevel). For SparkR, use setLogLevel(newLevel).\n"
     ]
    },
    {
     "name": "stdout",
     "output_type": "stream",
     "text": [
      "+----------------------------------------------------------------------------------------------+-----+------+--------------+\n",
      "|title                                                                                         |price|rating|price_category|\n",
      "+----------------------------------------------------------------------------------------------+-----+------+--------------+\n",
      "|Starving Hearts (Triangular Trade Trilogy, #1)                                                |13.99|Two   |cheap         |\n",
      "|Set Me Free                                                                                   |17.46|Five  |cheap         |\n",
      "|The Coming Woman: A Novel Based on the Life of the Infamous Feminist, Victoria Woodhull       |17.93|Three |cheap         |\n",
      "|Shakespeare's Sonnets                                                                         |20.66|Four  |moderate      |\n",
      "|The Boys in the Boat: Nine Americans and Their Epic Quest for Gold at the 1936 Berlin Olympics|22.6 |Four  |moderate      |\n",
      "|The Requiem Red                                                                               |22.65|One   |moderate      |\n",
      "|Olio                                                                                          |23.88|One   |moderate      |\n",
      "|The Dirty Little Secrets of Getting Your Dream Job                                            |33.34|Four  |moderate      |\n",
      "|Rip it Up and Start Again                                                                     |35.02|Five  |expensive     |\n",
      "|Mesaerion: The Best Science Fiction Stories 1800-1849                                         |37.59|One   |expensive     |\n",
      "|It's Only the Himalayas                                                                       |45.17|Two   |expensive     |\n",
      "|Sharp Objects                                                                                 |47.82|Four  |expensive     |\n",
      "|Soumission                                                                                    |50.1 |One   |expensive     |\n",
      "|Libertarianism for Beginners                                                                  |51.33|Two   |expensive     |\n",
      "|A Light in the Attic                                                                          |51.77|Three |expensive     |\n",
      "|The Black Maria                                                                               |52.15|One   |expensive     |\n",
      "|Scott Pilgrim's Precious Little Life (Scott Pilgrim #1)                                       |52.29|Five  |expensive     |\n",
      "|Tipping the Velvet                                                                            |53.74|One   |expensive     |\n",
      "|Sapiens: A Brief History of Humankind                                                         |54.23|Five  |expensive     |\n",
      "|Our Band Could Be Your Life: Scenes from the American Indie Underground, 1981-1991            |57.25|Three |expensive     |\n",
      "+----------------------------------------------------------------------------------------------+-----+------+--------------+\n",
      "\n"
     ]
    }
   ],
   "execution_count": 1
  }
 ],
 "metadata": {
  "kernelspec": {
   "display_name": "Python 3",
   "language": "python",
   "name": "python3"
  },
  "language_info": {
   "codemirror_mode": {
    "name": "ipython",
    "version": 2
   },
   "file_extension": ".py",
   "mimetype": "text/x-python",
   "name": "python",
   "nbconvert_exporter": "python",
   "pygments_lexer": "ipython2",
   "version": "2.7.6"
  }
 },
 "nbformat": 4,
 "nbformat_minor": 5
}
